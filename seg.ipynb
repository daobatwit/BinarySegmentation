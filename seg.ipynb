{
 "cells": [
  {
   "cell_type": "markdown",
   "metadata": {
    "pycharm": {
     "name": "#%% md\n"
    }
   },
   "source": [
    "### Imports"
   ]
  },
  {
   "cell_type": "code",
   "execution_count": null,
   "metadata": {},
   "outputs": [],
   "source": [
    "%env SM_FRAMEWORK=tf.keras\n",
    "\n",
    "import ssl\n",
    "from sys import platform\n",
    "import tensorflow as tf\n",
    "tf.__version__\n",
    "import keras\n",
    "import segmentation_models as sm\n",
    "\n",
    "from config import *\n",
    "from util import *\n",
    "\n",
    "print('Done')"
   ]
  },
  {
   "cell_type": "markdown",
   "metadata": {
    "pycharm": {
     "name": "#%% md\n"
    }
   },
   "source": [
    "### Load Datasets"
   ]
  },
  {
   "cell_type": "code",
   "execution_count": null,
   "metadata": {
    "jupyter": {
     "outputs_hidden": false
    },
    "pycharm": {
     "name": "#%%\n"
    }
   },
   "outputs": [],
   "source": [
    "prep_input = sm.get_preprocessing(BACKBONE)  # vgg16 preprocessing\n",
    "\n",
    "# define callbacks for learning rate scheduling and best checkpoints saving\n",
    "callbacks = [\n",
    "    keras.callbacks.ModelCheckpoint(best_model_name, save_weights_only=True,\n",
    "                                    save_best_only=True, mode='min'),\n",
    "    keras.callbacks.ReduceLROnPlateau(),\n",
    "]"
   ]
  },
  {
   "cell_type": "code",
   "execution_count": null,
   "metadata": {
    "collapsed": false,
    "pycharm": {
     "name": "#%%\n"
    }
   },
   "outputs": [],
   "source": [
    "# datasets\n",
    "train = Dataset(\n",
    "    images_dir=train_dir + 'XTrain1/',\n",
    "    masks_dir=train_dir + 'YTrain1/',\n",
    "    classes=CLASSES,\n",
    "    aug=get_augmentation(),\n",
    "    prep=get_preprocess()\n",
    ")\n",
    "val = Dataset(\n",
    "    images_dir=val_dir + 'XValidate1/',\n",
    "    masks_dir=val_dir + 'YValidate1/',\n",
    "    classes=CLASSES,\n",
    "    aug=get_augmentation(),\n",
    "    prep=get_preprocess(),\n",
    ")\n",
    "\n",
    "train_dataloader = Dataloader(train, batch_size=BATCH_SIZE, shuffle=True)\n",
    "val_dataloader = Dataloader(val, batch_size=1, shuffle=False)\n",
    "print('Done')"
   ]
  },
  {
   "cell_type": "markdown",
   "metadata": {},
   "source": [
    "### Define Optimizer and Loss Functions"
   ]
  },
  {
   "cell_type": "code",
   "execution_count": null,
   "metadata": {
    "jupyter": {
     "outputs_hidden": false
    },
    "pycharm": {
     "name": "#%%\n"
    }
   },
   "outputs": [],
   "source": [
    "# define optimizer\n",
    "optim = tf.keras.optimizers.Adam(LR)\n",
    "\n",
    "# segmentation models losses\n",
    "dice_loss = sm.losses.DiceLoss()\n",
    "focal_loss = sm.losses.BinaryFocalLoss()\n",
    "total_loss = dice_loss + (1 * focal_loss)\n",
    "metrics = [sm.metrics.IOUScore(threshold=5), sm.metrics.FScore(threshold=0.5)]\n",
    "\n",
    "print('Done')"
   ]
  },
  {
   "cell_type": "markdown",
   "metadata": {
    "pycharm": {
     "name": "#%% md\n"
    }
   },
   "source": [
    "### Define and Compile UNet Model"
   ]
  },
  {
   "cell_type": "code",
   "execution_count": null,
   "metadata": {},
   "outputs": [],
   "source": [
    "# bypass ssl context if not on win32 (this method is not recommended but easy)\n",
    "if platform != 'win32':\n",
    "    # noinspection PyProtectedMember,PyUnresolvedReferences\n",
    "    ssl._create_default_https_context = ssl._create_unverified_context\n",
    "    print('context set')\n",
    "\n",
    "print('Done')"
   ]
  },
  {
   "cell_type": "code",
   "execution_count": null,
   "metadata": {
    "jupyter": {
     "outputs_hidden": false
    },
    "pycharm": {
     "name": "#%%\n"
    }
   },
   "outputs": [],
   "source": [
    "# create model\n",
    "model = sm.Unet(BACKBONE, classes=n_classes, activation=activation)\n",
    "\n",
    "# compile keras model with defined optimizer, loss and metrics\n",
    "model.compile(optim, total_loss, metrics)\n",
    "\n",
    "print('Done')"
   ]
  },
  {
   "cell_type": "markdown",
   "metadata": {
    "pycharm": {
     "name": "#%% md\n"
    }
   },
   "source": [
    "### Train Model"
   ]
  },
  {
   "cell_type": "code",
   "execution_count": null,
   "metadata": {
    "jupyter": {
     "outputs_hidden": false
    },
    "pycharm": {
     "name": "#%%\n"
    }
   },
   "outputs": [],
   "source": [
    "history1 = model.fit(\n",
    "    x=train_dataloader,\n",
    "    steps_per_epoch=len(train_dataloader),\n",
    "    epochs=50,\n",
    "    callbacks=callbacks,\n",
    "    validation_data=val_dataloader,\n",
    "    validation_steps=len(val_dataloader),\n",
    ")"
   ]
  },
  {
   "cell_type": "code",
   "execution_count": null,
   "metadata": {
    "jupyter": {
     "outputs_hidden": false
    },
    "pycharm": {
     "name": "#%%\n"
    }
   },
   "outputs": [],
   "source": [
    "prep_input = sm.get_preprocessing(BACKBONE)  # vgg16 preprocessing\n",
    "\n",
    "# define callbacks for learning rate scheduling and best checkpoints saving\n",
    "callbacks = [\n",
    "    keras.callbacks.ModelCheckpoint(best_model_name, save_weights_only=True,\n",
    "                                    save_best_only=True, mode='min'),\n",
    "    keras.callbacks.ReduceLROnPlateau(),\n",
    "]"
   ]
  },
  {
   "cell_type": "code",
   "execution_count": null,
   "metadata": {
    "collapsed": false,
    "pycharm": {
     "name": "#%%\n"
    }
   },
   "outputs": [],
   "source": [
    "# datasets\n",
    "train = Dataset(\n",
    "    images_dir=train_dir + 'XTrain2/',\n",
    "    masks_dir=train_dir + 'YTrain2/',\n",
    "    classes=CLASSES,\n",
    "    aug=get_augmentation(),\n",
    "    prep=get_preprocess()\n",
    ")\n",
    "val = Dataset(\n",
    "    images_dir=val_dir + 'XValidate2/',\n",
    "    masks_dir=val_dir + 'YValidate2/',\n",
    "    classes=CLASSES,\n",
    "    aug=get_augmentation(),\n",
    "    prep=get_preprocess(),\n",
    ")\n",
    "\n",
    "train_dataloader = Dataloader(train, batch_size=BATCH_SIZE, shuffle=True)\n",
    "val_dataloader = Dataloader(val, batch_size=1, shuffle=False)\n",
    "print('Done')"
   ]
  },
  {
   "cell_type": "markdown",
   "metadata": {},
   "source": [
    "### Define Optimizer and Loss Functions"
   ]
  },
  {
   "cell_type": "code",
   "execution_count": null,
   "metadata": {
    "jupyter": {
     "outputs_hidden": false
    },
    "pycharm": {
     "name": "#%%\n"
    }
   },
   "outputs": [],
   "source": [
    "# define optimizer\n",
    "optim = tf.keras.optimizers.Adam(LR)\n",
    "\n",
    "# segmentation models losses\n",
    "dice_loss = sm.losses.DiceLoss()\n",
    "focal_loss = sm.losses.BinaryFocalLoss()\n",
    "total_loss = dice_loss + (1 * focal_loss)\n",
    "metrics = [sm.metrics.IOUScore(threshold=5), sm.metrics.FScore(threshold=0.5)]\n",
    "\n",
    "print('Done')"
   ]
  },
  {
   "cell_type": "markdown",
   "metadata": {
    "pycharm": {
     "name": "#%% md\n"
    }
   },
   "source": [
    "### Define and Compile UNet Model"
   ]
  },
  {
   "cell_type": "code",
   "execution_count": null,
   "metadata": {},
   "outputs": [],
   "source": [
    "# bypass ssl context if not on win32 (this method is not recommended but easy)\n",
    "if platform != 'win32':\n",
    "    # noinspection PyProtectedMember,PyUnresolvedReferences\n",
    "    ssl._create_default_https_context = ssl._create_unverified_context\n",
    "    print('context set')\n",
    "\n",
    "print('Done')"
   ]
  },
  {
   "cell_type": "code",
   "execution_count": null,
   "metadata": {
    "jupyter": {
     "outputs_hidden": false
    },
    "pycharm": {
     "name": "#%%\n"
    }
   },
   "outputs": [],
   "source": [
    "# create model\n",
    "model = sm.Unet(BACKBONE, classes=n_classes, activation=activation)\n",
    "\n",
    "# compile keras model with defined optimizer, loss and metrics\n",
    "model.compile(optim, total_loss, metrics)\n",
    "\n",
    "print('Done')"
   ]
  },
  {
   "cell_type": "code",
   "execution_count": null,
   "metadata": {},
   "outputs": [],
   "source": [
    "history2 = model.fit(\n",
    "    x=train_dataloader,\n",
    "    steps_per_epoch=len(train_dataloader),\n",
    "    epochs=50,\n",
    "    callbacks=callbacks,\n",
    "    validation_data=val_dataloader,\n",
    "    validation_steps=len(val_dataloader),\n",
    ")"
   ]
  },
  {
   "cell_type": "code",
   "execution_count": null,
   "metadata": {
    "jupyter": {
     "outputs_hidden": false
    },
    "pycharm": {
     "name": "#%%\n"
    }
   },
   "outputs": [],
   "source": [
    "prep_input = sm.get_preprocessing(BACKBONE)  # vgg16 preprocessing\n",
    "\n",
    "# define callbacks for learning rate scheduling and best checkpoints saving\n",
    "callbacks = [\n",
    "    keras.callbacks.ModelCheckpoint(best_model_name, save_weights_only=True,\n",
    "                                    save_best_only=True, mode='min'),\n",
    "    keras.callbacks.ReduceLROnPlateau(),\n",
    "]"
   ]
  },
  {
   "cell_type": "code",
   "execution_count": null,
   "metadata": {
    "collapsed": false,
    "pycharm": {
     "name": "#%%\n"
    }
   },
   "outputs": [],
   "source": [
    "# datasets\n",
    "train = Dataset(\n",
    "    images_dir=train_dir + 'XTrain3/',\n",
    "    masks_dir=train_dir + 'YTrain3/',\n",
    "    classes=CLASSES,\n",
    "    aug=get_augmentation(),\n",
    "    prep=get_preprocess()\n",
    ")\n",
    "val = Dataset(\n",
    "    images_dir=val_dir + 'XValidate3/',\n",
    "    masks_dir=val_dir + 'YValidate3/',\n",
    "    classes=CLASSES,\n",
    "    aug=get_augmentation(),\n",
    "    prep=get_preprocess(),\n",
    ")\n",
    "\n",
    "train_dataloader = Dataloader(train, batch_size=BATCH_SIZE, shuffle=True)\n",
    "val_dataloader = Dataloader(val, batch_size=1, shuffle=False)\n",
    "print('Done')"
   ]
  },
  {
   "cell_type": "markdown",
   "metadata": {},
   "source": [
    "### Define Optimizer and Loss Functions"
   ]
  },
  {
   "cell_type": "code",
   "execution_count": null,
   "metadata": {
    "jupyter": {
     "outputs_hidden": false
    },
    "pycharm": {
     "name": "#%%\n"
    }
   },
   "outputs": [],
   "source": [
    "# define optimizer\n",
    "optim = tf.keras.optimizers.Adam(LR)\n",
    "\n",
    "# segmentation models losses\n",
    "dice_loss = sm.losses.DiceLoss()\n",
    "focal_loss = sm.losses.BinaryFocalLoss()\n",
    "total_loss = dice_loss + (1 * focal_loss)\n",
    "metrics = [sm.metrics.IOUScore(threshold=5), sm.metrics.FScore(threshold=0.5)]\n",
    "\n",
    "print('Done')"
   ]
  },
  {
   "cell_type": "markdown",
   "metadata": {
    "pycharm": {
     "name": "#%% md\n"
    }
   },
   "source": [
    "### Define and Compile UNet Model"
   ]
  },
  {
   "cell_type": "code",
   "execution_count": null,
   "metadata": {},
   "outputs": [],
   "source": [
    "# bypass ssl context if not on win32 (this method is not recommended but easy)\n",
    "if platform != 'win32':\n",
    "    # noinspection PyProtectedMember,PyUnresolvedReferences\n",
    "    ssl._create_default_https_context = ssl._create_unverified_context\n",
    "    print('context set')\n",
    "\n",
    "print('Done')"
   ]
  },
  {
   "cell_type": "code",
   "execution_count": null,
   "metadata": {
    "jupyter": {
     "outputs_hidden": false
    },
    "pycharm": {
     "name": "#%%\n"
    }
   },
   "outputs": [],
   "source": [
    "# create model\n",
    "model = sm.Unet(BACKBONE, classes=n_classes, activation=activation)\n",
    "\n",
    "# compile keras model with defined optimizer, loss and metrics\n",
    "model.compile(optim, total_loss, metrics)\n",
    "\n",
    "print('Done')"
   ]
  },
  {
   "cell_type": "code",
   "execution_count": null,
   "metadata": {},
   "outputs": [],
   "source": [
    "history3 = model.fit(\n",
    "    x=train_dataloader,\n",
    "    steps_per_epoch=len(train_dataloader),\n",
    "    epochs=50,\n",
    "    callbacks=callbacks,\n",
    "    validation_data=val_dataloader,\n",
    "    validation_steps=len(val_dataloader),\n",
    ")"
   ]
  },
  {
   "cell_type": "code",
   "execution_count": null,
   "metadata": {
    "jupyter": {
     "outputs_hidden": false
    },
    "pycharm": {
     "name": "#%%\n"
    }
   },
   "outputs": [],
   "source": [
    "prep_input = sm.get_preprocessing(BACKBONE)  # vgg16 preprocessing\n",
    "\n",
    "# define callbacks for learning rate scheduling and best checkpoints saving\n",
    "callbacks = [\n",
    "    keras.callbacks.ModelCheckpoint(best_model_name, save_weights_only=True,\n",
    "                                    save_best_only=True, mode='min'),\n",
    "    keras.callbacks.ReduceLROnPlateau(),\n",
    "]"
   ]
  },
  {
   "cell_type": "code",
   "execution_count": null,
   "metadata": {
    "collapsed": false,
    "pycharm": {
     "name": "#%%\n"
    }
   },
   "outputs": [],
   "source": [
    "# datasets\n",
    "train = Dataset(\n",
    "    images_dir=train_dir + 'XTrain4/',\n",
    "    masks_dir=train_dir + 'YTrain4/',\n",
    "    classes=CLASSES,\n",
    "    aug=get_augmentation(),\n",
    "    prep=get_preprocess()\n",
    ")\n",
    "val = Dataset(\n",
    "    images_dir=val_dir + 'XValidate4/',\n",
    "    masks_dir=val_dir + 'YValidate4/',\n",
    "    classes=CLASSES,\n",
    "    aug=get_augmentation(),\n",
    "    prep=get_preprocess(),\n",
    ")\n",
    "\n",
    "train_dataloader = Dataloader(train, batch_size=BATCH_SIZE, shuffle=True)\n",
    "val_dataloader = Dataloader(val, batch_size=1, shuffle=False)\n",
    "print('Done')"
   ]
  },
  {
   "cell_type": "markdown",
   "metadata": {},
   "source": [
    "### Define Optimizer and Loss Functions"
   ]
  },
  {
   "cell_type": "code",
   "execution_count": null,
   "metadata": {
    "jupyter": {
     "outputs_hidden": false
    },
    "pycharm": {
     "name": "#%%\n"
    }
   },
   "outputs": [],
   "source": [
    "# define optimizer\n",
    "optim = tf.keras.optimizers.Adam(LR)\n",
    "\n",
    "# segmentation models losses\n",
    "dice_loss = sm.losses.DiceLoss()\n",
    "focal_loss = sm.losses.BinaryFocalLoss()\n",
    "total_loss = dice_loss + (1 * focal_loss)\n",
    "metrics = [sm.metrics.IOUScore(threshold=5), sm.metrics.FScore(threshold=0.5)]\n",
    "\n",
    "print('Done')"
   ]
  },
  {
   "cell_type": "markdown",
   "metadata": {
    "pycharm": {
     "name": "#%% md\n"
    }
   },
   "source": [
    "### Define and Compile UNet Model"
   ]
  },
  {
   "cell_type": "code",
   "execution_count": null,
   "metadata": {},
   "outputs": [],
   "source": [
    "# bypass ssl context if not on win32 (this method is not recommended but easy)\n",
    "if platform != 'win32':\n",
    "    # noinspection PyProtectedMember,PyUnresolvedReferences\n",
    "    ssl._create_default_https_context = ssl._create_unverified_context\n",
    "    print('context set')\n",
    "\n",
    "print('Done')"
   ]
  },
  {
   "cell_type": "code",
   "execution_count": null,
   "metadata": {
    "jupyter": {
     "outputs_hidden": false
    },
    "pycharm": {
     "name": "#%%\n"
    }
   },
   "outputs": [],
   "source": [
    "# create model\n",
    "model = sm.Unet(BACKBONE, classes=n_classes, activation=activation)\n",
    "\n",
    "# compile keras model with defined optimizer, loss and metrics\n",
    "model.compile(optim, total_loss, metrics)\n",
    "\n",
    "print('Done')"
   ]
  },
  {
   "cell_type": "code",
   "execution_count": null,
   "metadata": {},
   "outputs": [],
   "source": [
    "history4 = model.fit(\n",
    "    x=train_dataloader,\n",
    "    steps_per_epoch=len(train_dataloader),\n",
    "    epochs=50,\n",
    "    callbacks=callbacks,\n",
    "    validation_data=val_dataloader,\n",
    "    validation_steps=len(val_dataloader),\n",
    ")"
   ]
  },
  {
   "cell_type": "markdown",
   "metadata": {
    "collapsed": false,
    "pycharm": {
     "name": "#%% md\n"
    }
   },
   "source": [
    "### Graph Model Loss"
   ]
  },
  {
   "cell_type": "code",
   "execution_count": null,
   "metadata": {},
   "outputs": [],
   "source": [
    "graph_f1_models(history1, history2, history3, history4)"
   ]
  },
  {
   "cell_type": "code",
   "execution_count": null,
   "metadata": {},
   "outputs": [],
   "source": [
    "graph_loss_models(history1, history2, history3, history4)"
   ]
  },
  {
   "cell_type": "markdown",
   "metadata": {
    "pycharm": {
     "name": "#%% md\n"
    }
   },
   "source": [
    "### Model Evaluation"
   ]
  },
  {
   "cell_type": "code",
   "execution_count": null,
   "metadata": {
    "collapsed": false,
    "pycharm": {
     "name": "#%%\n"
    }
   },
   "outputs": [],
   "source": [
    "best_model_name = os.path.join(model_dir, 'best_model_9.h5')\n",
    "\n",
    "# load best weights\n",
    "model.load_weights(best_model_name)"
   ]
  },
  {
   "cell_type": "code",
   "execution_count": null,
   "metadata": {
    "pycharm": {
     "name": "#%%\n"
    }
   },
   "outputs": [],
   "source": [
    "# remake_test(200)\n",
    "\n",
    "# load test dataset\n",
    "test = Dataset(\n",
    "    images_dir=test_dir + 'XTestFixed',\n",
    "    masks_dir=test_dir + 'YTestFixed',\n",
    "    classes=CLASSES,\n",
    "    aug=get_augmentation(),\n",
    "    prep=get_preprocess()\n",
    ")\n",
    "test_dataloader = Dataloader(test, batch_size=1, shuffle=False)"
   ]
  },
  {
   "cell_type": "code",
   "execution_count": null,
   "metadata": {
    "pycharm": {
     "name": "#%%\n"
    }
   },
   "outputs": [],
   "source": [
    "scores = model.evaluate(test_dataloader)\n",
    "print_metrics(scores, metrics)"
   ]
  },
  {
   "cell_type": "code",
   "execution_count": null,
   "metadata": {
    "pycharm": {
     "name": "#%%\n"
    }
   },
   "outputs": [],
   "source": [
    "show_results(\n",
    "    test,\n",
    "    model,\n",
    "    len(test),\n",
    "    postprocess,\n",
    "    show=True,\n",
    "    save=True,\n",
    "    out=output_dir,\n",
    "    largest_only=True,\n",
    "    region_fill=True,\n",
    ")"
   ]
  }
 ],
 "metadata": {
  "kernelspec": {
   "display_name": "Python 3",
   "language": "python",
   "name": "python3"
  },
  "language_info": {
   "codemirror_mode": {
    "name": "ipython",
    "version": 3
   },
   "file_extension": ".py",
   "mimetype": "text/x-python",
   "name": "python",
   "nbconvert_exporter": "python",
   "pygments_lexer": "ipython3",
   "version": "3.9.7"
  }
 },
 "nbformat": 4,
 "nbformat_minor": 4
}
