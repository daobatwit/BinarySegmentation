{
 "cells": [
  {
   "cell_type": "code",
   "execution_count": 1,
   "metadata": {},
   "outputs": [],
   "source": [
    "import cv2\n",
    "import matplotlib.pyplot as plt\n",
    "import numpy as np\n",
    "import os \n",
    "import shutil"
   ]
  },
  {
   "cell_type": "code",
   "execution_count": 2,
   "metadata": {},
   "outputs": [],
   "source": [
    "path = 'C:\\\\Users\\\\daob\\\\Documents\\\\ComputerVision\\\\Final\\\\mcp'\n",
    "binaryPath = 'C:\\\\Users\\\\daob\\\\Documents\\\\ComputerVision\\\\Final\\\\masks'\n",
    "pathXTrain = 'C:\\\\Users\\\\daob\\\\Documents\\\\ComputerVision\\\\Final\\\\data\\\\training\\\\XTrain'\n",
    "pathYTrain = 'C:\\\\Users\\\\daob\\\\Documents\\\\ComputerVision\\\\Final\\\\data\\\\training\\\\YTrain'\n",
    "pathXTest = 'C:\\\\Users\\\\daob\\\\Documents\\\\ComputerVision\\\\Final\\\\XTest'\n",
    "pathAdded = 'C:\\\\Users\\\\daob\\\\Documents\\\\ComputerVision\\\\Final\\\\data\\\\Images\\\\Added'\n",
    "pathAddedMasks = 'C:\\\\Users\\\\daob\\\\Documents\\\\ComputerVision\\\\Final\\\\data\\\\Images\\\\AddedMasks'"
   ]
  },
  {
   "cell_type": "markdown",
   "metadata": {},
   "source": []
  },
  {
   "cell_type": "code",
   "execution_count": 15,
   "metadata": {},
   "outputs": [],
   "source": [
    "for image in os.listdir(pathYTrain):\n",
    "    #print(image)\n",
    "    imagePath = os.path.join(path, image)\n",
    "    #print(imagePath)\n",
    "    shutil.copy(imagePath, pathXTrain)"
   ]
  },
  {
   "cell_type": "code",
   "execution_count": 2,
   "metadata": {},
   "outputs": [
    {
     "name": "stdout",
     "output_type": "stream",
     "text": [
      "<module 'cv2.version' from 'C:\\\\Users\\\\daob\\\\AppData\\\\Roaming\\\\Python\\\\Python39\\\\site-packages\\\\cv2\\\\version.py'>\n"
     ]
    }
   ],
   "source": [
    "print (cv2. version )"
   ]
  },
  {
   "cell_type": "code",
   "execution_count": null,
   "metadata": {},
   "outputs": [],
   "source": [
    "for image in os.listdir(path):\n",
    "    #img = cv2.imread(joint + str(x) + '.png')\n",
    "    #############################     Gaussian Blurring    ######################################\n",
    "    img = cv2.imread(os.path.join(path,image))\n",
    "    medBlur = cv2.medianBlur(img,5)\n",
    "    bilFilter = cv2.bilateralFilter(img,5,75,75)\n",
    "    ret,thresh1 = cv2.threshold(bilFilter,127,255,cv2.THRESH_BINARY)\n",
    "    #cv2.imshow('Binary Gaussian', thresh1)\n",
    "    #name = 'binary_gaussian' + str(x) + '.png'\n",
    "    #cv2.imwrite(name, thresh1)\n",
    "    #cv2.waitKey(0)\n",
    "    #############################     Filling     ######################################\n",
    "    #img2 = cv2.imread(name)\n",
    "    im_floodfill = thresh1.copy()\n",
    "    # Mask used to flood filling.\n",
    "    # Notice the size needs to be 2 pixels than the image.\n",
    "    h, w = thresh1.shape[:2]\n",
    "    mask = np.zeros((h+2, w+2), np.uint8)\n",
    "    # Floodfill from point (0, 0)\n",
    "    cv2.floodFill(im_floodfill, mask, (0,0), 255);\n",
    "    \n",
    "    # Invert floodfilled image\n",
    "    im_floodfill_inv = cv2.bitwise_not(im_floodfill)\n",
    "    \n",
    "    # Combine the two images to get the foreground.\n",
    "    im_out = thresh1 | im_floodfill_inv\n",
    "    # Make binary\n",
    "    grayImage = cv2.cvtColor(im_out, cv2.COLOR_BGR2GRAY)\n",
    "    (thresh, binaryFilled) = cv2.threshold(grayImage, 128, 255, cv2.THRESH_BINARY | cv2.THRESH_OTSU)\n",
    "\n",
    "    cv2.imwrite(os.path.join(binaryPath , image), binaryFilled)\n",
    "    #cv2.imshow(\"Foreground\", binaryFilled)\n"
   ]
  },
  {
   "cell_type": "code",
   "execution_count": 5,
   "metadata": {},
   "outputs": [],
   "source": [
    "for image in os.listdir(pathAdded):\n",
    "    if (image is os.listdir(pathAddedMasks)):\n",
    "        print(image)\n",
    "#print(os.listdir(pathXTrain))"
   ]
  },
  {
   "cell_type": "code",
   "execution_count": 6,
   "metadata": {},
   "outputs": [
    {
     "name": "stdout",
     "output_type": "stream",
     "text": [
      "9003175_mcp2.png \t 9003175_mcp2.png\n",
      "9003175_mcp3.png \t 9003175_mcp3.png\n",
      "9003175_mcp4.png \t 9003175_mcp4.png\n",
      "9030925_mcp4.png \t 9030925_mcp4.png\n",
      "9033275_mcp2.png \t 9033275_mcp2.png\n",
      "9033275_mcp3.png \t 9033275_mcp3.png\n",
      "9033275_mcp4.png \t 9033275_mcp4.png\n",
      "9038876_mcp5.png \t 9038876_mcp5.png\n",
      "9267198_mcp3.png \t 9267198_mcp3.png\n",
      "9267508_mcp3.png \t 9267508_mcp3.png\n",
      "9267508_mcp4.png \t 9267508_mcp4.png\n",
      "9267508_mcp5.png \t 9267508_mcp5.png\n",
      "9267648_mcp2.png \t 9267648_mcp2.png\n",
      "9267648_mcp3.png \t 9267648_mcp3.png\n",
      "9267648_mcp4.png \t 9267648_mcp4.png\n",
      "9327385_mcp4.png \t 9327385_mcp4.png\n",
      "9327385_mcp5.png \t 9327385_mcp5.png\n",
      "9328093_mcp3.png \t 9328093_mcp3.png\n",
      "9328093_mcp4.png \t 9328093_mcp4.png\n",
      "9328332_mcp3.png \t 9328332_mcp3.png\n",
      "9328332_mcp4.png \t 9328332_mcp4.png\n",
      "9328332_mcp5.png \t 9328332_mcp5.png\n",
      "9328376_mcp2.png \t 9328376_mcp2.png\n",
      "9328376_mcp5.png \t 9328376_mcp5.png\n",
      "9329159_mcp2.png \t 9329159_mcp2.png\n",
      "9329159_mcp4.png \t 9329159_mcp4.png\n",
      "9329159_mcp5.png \t 9329159_mcp5.png\n",
      "9329346_mcp3.png \t 9329346_mcp3.png\n",
      "9329346_mcp4.png \t 9329346_mcp4.png\n",
      "9751401_mcp2.png \t 9606711_mcp5.png\n",
      "9751401_mcp5.png \t 9751401_mcp2.png\n",
      "9751625_mcp2.png \t 9751401_mcp5.png\n",
      "9751625_mcp5.png \t 9751625_mcp2.png\n",
      "9752412_mcp2.png \t 9751625_mcp5.png\n",
      "9752412_mcp3.png \t 9752412_mcp2.png\n",
      "9752412_mcp5.png \t 9752412_mcp3.png\n",
      "9753394_mcp2.png \t 9752412_mcp5.png\n",
      "9821982_mcp2.png \t 9753394_mcp2.png\n",
      "9821982_mcp3.png \t 9821982_mcp2.png\n",
      "9821982_mcp5.png \t 9821982_mcp3.png\n",
      "9824005_mcp2.png \t 9821982_mcp5.png\n",
      "9824274_mcp3.png \t 9824005_mcp2.png\n",
      "9828819_mcp4.png \t 9824274_mcp3.png\n",
      "9829221_mcp3.png \t 9828819_mcp4.png\n",
      "9829221_mcp4.png \t 9829221_mcp3.png\n",
      "9829221_mcp5.png \t 9829221_mcp4.png\n",
      "9829813_mcp5.png \t 9829221_mcp5.png\n",
      "9830048_mcp5.png \t 9829813_mcp5.png\n",
      "9830316_mcp4.png \t 9830048_mcp5.png\n",
      "9830316_mcp5.png \t 9830316_mcp4.png\n",
      "9993650_mcp3.png \t 9830316_mcp5.png\n",
      "9994363_mcp2.png \t 9993650_mcp3.png\n",
      "9994363_mcp3.png \t 9994363_mcp2.png\n",
      "9994363_mcp4.png \t 9994363_mcp3.png\n",
      "9994363_mcp5.png \t 9994363_mcp4.png\n",
      "9994848_mcp2.png \t 9994363_mcp5.png\n",
      "9994848_mcp4.png \t 9994848_mcp2.png\n",
      "9994848_mcp5.png \t 9994848_mcp4.png\n",
      "9995849_mcp3.png \t 9994848_mcp5.png\n"
     ]
    }
   ],
   "source": [
    "for image, mask in zip(os.listdir(pathAdded), os.listdir(pathAddedMasks)):\n",
    "    print(image, \"\\t\", mask)"
   ]
  }
 ],
 "metadata": {
  "interpreter": {
   "hash": "5da61c0ad177944ebf8a03bcfcd73afc4e0a7863d8133740251359d38c803255"
  },
  "kernelspec": {
   "display_name": "Python 3.9.7 64-bit",
   "language": "python",
   "name": "python3"
  },
  "language_info": {
   "codemirror_mode": {
    "name": "ipython",
    "version": 3
   },
   "file_extension": ".py",
   "mimetype": "text/x-python",
   "name": "python",
   "nbconvert_exporter": "python",
   "pygments_lexer": "ipython3",
   "version": "3.9.7"
  },
  "orig_nbformat": 4
 },
 "nbformat": 4,
 "nbformat_minor": 2
}
